{
 "cells": [
  {
   "cell_type": "markdown",
   "id": "d96fa055",
   "metadata": {},
   "source": [
    "# Scenarios and key results"
   ]
  },
  {
   "cell_type": "markdown",
   "id": "1d12f695",
   "metadata": {},
   "source": [
    "Each Reduction and Replacement Solution (RRS) produces five key results:\n",
    "1. Implementation Unit Adoption Increase in 2050 (PDS vs REF)\n",
    "2. Functional Unit Adoption Increase in 2050 (PDS vs REF)\n",
    "3. Marginal First Cost 2015-2050\n",
    "4. Net Operating Savings 2020-2050\n",
    "5. Lifetime Operating Savings 2020-2050\n",
    "6. Total Emissions Reduction\n",
    "\n",
    "The first two are adoption results, the following three are financial and the last one is an emission result. Before we can get the key results, we need to produce a specific scenario of a solution."
   ]
  },
  {
   "cell_type": "code",
   "execution_count": 1,
   "id": "70785e50",
   "metadata": {},
   "outputs": [],
   "source": [
    "from solution import factory\n",
    "import pandas as pd\n",
    "pds1 = factory.load_scenario(\"bikeinfrastructure\", \"PDS1\")"
   ]
  },
  {
   "cell_type": "markdown",
   "id": "46e11086",
   "metadata": {},
   "source": [
    "Now that we have our scenario, we can generate the key results."
   ]
  },
  {
   "cell_type": "code",
   "execution_count": 2,
   "id": "d2252191",
   "metadata": {},
   "outputs": [
    {
     "data": {
      "text/plain": [
       "{'implementation_unit_adoption_increase': 242777.14688276115,\n",
       " 'functional_unit_adoption_increase': 1254.2601831584388,\n",
       " 'marginal_first_cost': 2358.757905490336,\n",
       " 'net_operating_savings': 415.40118026217056,\n",
       " 'lifetime_operating_savings': 741.9571034347329,\n",
       " 'cumulative_emissions_reduced': 2.3034768858097836}"
      ]
     },
     "execution_count": 2,
     "metadata": {},
     "output_type": "execute_result"
    }
   ],
   "source": [
    "pds1.key_results()"
   ]
  },
  {
   "cell_type": "markdown",
   "id": "8a4095cd",
   "metadata": {},
   "source": [
    "`key_results()` returns a dictionary. Of all six key results. We can also access each result individually."
   ]
  },
  {
   "cell_type": "code",
   "execution_count": 3,
   "id": "523f5cdd",
   "metadata": {},
   "outputs": [
    {
     "data": {
      "text/plain": [
       "[242777.14688276115,\n",
       " 1254.2601831584388,\n",
       " 2358.757905490336,\n",
       " 415.40118026217056,\n",
       " 741.9571034347329,\n",
       " 2.3034768858097836]"
      ]
     },
     "execution_count": 3,
     "metadata": {},
     "output_type": "execute_result"
    }
   ],
   "source": [
    "[pds1.implementation_unit_adoption_increase(),\n",
    "pds1.functional_unit_adoption_increase(),\n",
    "pds1.marginal_first_cost(),\n",
    "pds1.net_operating_savings(),\n",
    "pds1.lifetime_operating_savings(),\n",
    "pds1.cumulative_emissions_reduced()]"
   ]
  },
  {
   "cell_type": "markdown",
   "id": "a8819680",
   "metadata": {},
   "source": [
    "While `lifetime_operating_savings` is calculated for the entire scenario lifetime, other key results are calculated for a specific final year or for an interval. Intervals always start in 2020 but we can specify the final year. In the original excel sheets the default year is 2050 and so it is in the Python port."
   ]
  },
  {
   "cell_type": "code",
   "execution_count": 4,
   "id": "1776652d",
   "metadata": {},
   "outputs": [
    {
     "data": {
      "text/plain": [
       "{'implementation_unit_adoption_increase': 242777.14688276115,\n",
       " 'functional_unit_adoption_increase': 1254.2601831584388,\n",
       " 'marginal_first_cost': 2358.757905490336,\n",
       " 'net_operating_savings': 415.40118026217056,\n",
       " 'lifetime_operating_savings': 741.9571034347329,\n",
       " 'cumulative_emissions_reduced': 2.3034768858097836}"
      ]
     },
     "execution_count": 4,
     "metadata": {},
     "output_type": "execute_result"
    }
   ],
   "source": [
    "pds1.key_results(year=2050)"
   ]
  },
  {
   "cell_type": "markdown",
   "id": "778f3e02",
   "metadata": {},
   "source": [
    "Compare to:"
   ]
  },
  {
   "cell_type": "code",
   "execution_count": 5,
   "id": "2943b823",
   "metadata": {},
   "outputs": [
    {
     "data": {
      "text/plain": [
       "{'implementation_unit_adoption_increase': 221737.86679763015,\n",
       " 'functional_unit_adoption_increase': 1145.564897659259,\n",
       " 'marginal_first_cost': 2154.345880454912,\n",
       " 'net_operating_savings': 234.309027914764,\n",
       " 'lifetime_operating_savings': 741.9571034347329,\n",
       " 'cumulative_emissions_reduced': 1.309142675006755}"
      ]
     },
     "execution_count": 5,
     "metadata": {},
     "output_type": "execute_result"
    }
   ],
   "source": [
    "pds1.key_results(year=2040)"
   ]
  },
  {
   "cell_type": "markdown",
   "id": "c84b9a2b",
   "metadata": {},
   "source": [
    "This also works for the individual solutions, except for `lifetime_operating_savings`."
   ]
  },
  {
   "cell_type": "code",
   "execution_count": 6,
   "id": "9e2aef26",
   "metadata": {},
   "outputs": [
    {
     "data": {
      "text/plain": [
       "[242777.14688276115,\n",
       " 1254.2601831584388,\n",
       " 2358.757905490336,\n",
       " 415.40118026217056,\n",
       " 741.9571034347329,\n",
       " 2.3034768858097836]"
      ]
     },
     "execution_count": 6,
     "metadata": {},
     "output_type": "execute_result"
    }
   ],
   "source": [
    "year=2050\n",
    "[pds1.implementation_unit_adoption_increase(year),\n",
    "pds1.functional_unit_adoption_increase(year),\n",
    "pds1.marginal_first_cost(year),\n",
    "pds1.net_operating_savings(year),\n",
    "pds1.lifetime_operating_savings(),\n",
    "pds1.cumulative_emissions_reduced(year)]"
   ]
  },
  {
   "cell_type": "code",
   "execution_count": 7,
   "id": "568e9b5b",
   "metadata": {},
   "outputs": [
    {
     "data": {
      "text/plain": [
       "[221737.86679763015,\n",
       " 1145.564897659259,\n",
       " 2154.345880454912,\n",
       " 234.309027914764,\n",
       " 741.9571034347329,\n",
       " 1.309142675006755]"
      ]
     },
     "execution_count": 7,
     "metadata": {},
     "output_type": "execute_result"
    }
   ],
   "source": [
    "year=2040\n",
    "[pds1.implementation_unit_adoption_increase(year),\n",
    "pds1.functional_unit_adoption_increase(year),\n",
    "pds1.marginal_first_cost(year),\n",
    "pds1.net_operating_savings(year),\n",
    "pds1.lifetime_operating_savings(),\n",
    "pds1.cumulative_emissions_reduced(year)]"
   ]
  },
  {
   "cell_type": "markdown",
   "id": "5a861142",
   "metadata": {},
   "source": [
    "Finally, by default all key results are calculated for the `'World'` region."
   ]
  }
 ],
 "metadata": {
  "interpreter": {
   "hash": "641170e26b916086f6ab8a8498639d254e86adadac2c3bbb49fa49caa88ce61e"
  },
  "kernelspec": {
   "display_name": "Python 3 (ipykernel)",
   "language": "python",
   "name": "python3"
  },
  "language_info": {
   "codemirror_mode": {
    "name": "ipython",
    "version": 3
   },
   "file_extension": ".py",
   "mimetype": "text/x-python",
   "name": "python",
   "nbconvert_exporter": "python",
   "pygments_lexer": "ipython3",
   "version": "3.9.6"
  }
 },
 "nbformat": 4,
 "nbformat_minor": 5
}
